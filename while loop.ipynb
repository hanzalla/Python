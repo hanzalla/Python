{
 "cells": [
  {
   "cell_type": "code",
   "execution_count": 2,
   "metadata": {},
   "outputs": [
    {
     "name": "stdout",
     "output_type": "stream",
     "text": [
      "Programming For Beginners\n",
      "Programming For Beginners\n"
     ]
    }
   ],
   "source": [
    "name=\"programming for beginners\"\n",
    "for i in range(2):\n",
    "    print(name.title())"
   ]
  },
  {
   "cell_type": "markdown",
   "metadata": {},
   "source": [
    "# while loop"
   ]
  },
  {
   "cell_type": "code",
   "execution_count": 1,
   "metadata": {},
   "outputs": [
    {
     "name": "stdout",
     "output_type": "stream",
     "text": [
      "1\n",
      "2\n",
      "3\n",
      "4\n",
      "5\n"
     ]
    }
   ],
   "source": [
    "number=1\n",
    "while number <= 5:\n",
    "    print(number)\n",
    "    number +=1"
   ]
  },
  {
   "cell_type": "code",
   "execution_count": null,
   "metadata": {},
   "outputs": [
    {
     "name": "stdout",
     "output_type": "stream",
     "text": [
      "Enter somthing: \n",
      " Enter quit to exit programprogramming\n",
      "programmingprogramming\n",
      "Enter somthing: \n",
      " Enter quit to exit programfor\n",
      "forfor\n",
      "Enter somthing: \n",
      " Enter quit to exit programquit\n",
      "quitquit\n"
     ]
    }
   ],
   "source": [
    "text=\"Enter somthing: \"\n",
    "text+= \"\\n Enter quit to exit program\"\n",
    "msg=\" \"\n",
    "while msg !=\"quit\":\n",
    "    msg=input(text)\n",
    "    msg+=msg\n",
    "    print(msg)"
   ]
  },
  {
   "cell_type": "markdown",
   "metadata": {},
   "source": [
    "# Break and Continue statement"
   ]
  },
  {
   "cell_type": "code",
   "execution_count": 1,
   "metadata": {},
   "outputs": [
    {
     "name": "stdout",
     "output_type": "stream",
     "text": [
      "programming for beginners\n"
     ]
    }
   ],
   "source": [
    "name=\"programming for beginners\"\n",
    "while True:\n",
    "    print(name)\n",
    "    break"
   ]
  },
  {
   "cell_type": "code",
   "execution_count": null,
   "metadata": {},
   "outputs": [
    {
     "name": "stdout",
     "output_type": "stream",
     "text": [
      "enter your name: python\n",
      "Python\n",
      "wants to add more name: yes or no yes\n",
      "enter your name: java\n",
      "Java\n",
      "wants to add more name: yes or no no\n",
      "Program Has Been Stoped\n",
      "enter your name: asdf\n",
      "Asdf\n",
      "wants to add more name: yes or no asdf\n",
      "enter your name: asdf\n",
      "Asdf\n",
      "wants to add more name: yes or no asdf\n"
     ]
    }
   ],
   "source": [
    "greeting=\"hello guys\"\n",
    "while True:\n",
    "    name=input(\"enter your name: \")\n",
    "    print (name.title())\n",
    "    ques=input(\"wants to add more name: yes or no \")\n",
    "    if ques == \"yes\" or ques == 'y':\n",
    "        continue\n",
    "    elif ques == \"no\" or ques =='no':\n",
    "        print(\"program has been stoped\".title())\n",
    "        "
   ]
  },
  {
   "cell_type": "markdown",
   "metadata": {},
   "source": [
    "# difference between for loop and while loop"
   ]
  },
  {
   "cell_type": "code",
   "execution_count": 5,
   "metadata": {},
   "outputs": [
    {
     "name": "stdout",
     "output_type": "stream",
     "text": [
      "python\n",
      "java\n",
      "c#\n",
      "c++\n",
      "react\n",
      "python\n",
      "java\n",
      "c#\n",
      "c++\n",
      "react\n"
     ]
    }
   ],
   "source": [
    "names=[\"python\",\"java\",\"c#\",\"c++\",\"react\",\"python\",\"java\",\"c#\",\"c++\",\"react\"]\n",
    "for name in names:\n",
    "    print(name)"
   ]
  },
  {
   "cell_type": "code",
   "execution_count": 6,
   "metadata": {},
   "outputs": [
    {
     "name": "stdout",
     "output_type": "stream",
     "text": [
      "2\n",
      "3\n",
      "4\n",
      "5\n",
      "6\n",
      "7\n",
      "8\n",
      "9\n",
      "10\n",
      "11\n"
     ]
    }
   ],
   "source": [
    "number=1\n",
    "for i in range(10):\n",
    "    number+=1\n",
    "    print(number)"
   ]
  },
  {
   "cell_type": "code",
   "execution_count": 8,
   "metadata": {},
   "outputs": [
    {
     "name": "stdout",
     "output_type": "stream",
     "text": [
      "1\n",
      "2\n",
      "3\n",
      "4\n",
      "5\n"
     ]
    }
   ],
   "source": [
    "num=1\n",
    "while num <=5:\n",
    "    print(num)\n",
    "    num+=1"
   ]
  },
  {
   "cell_type": "code",
   "execution_count": 9,
   "metadata": {},
   "outputs": [
    {
     "name": "stdout",
     "output_type": "stream",
     "text": [
      "enter how many name you wants to add in list? 3\n",
      "enter name: pythhon\n",
      "enter name: java\n",
      "enter name: c#\n",
      "['pythhon', 'java', 'c#']\n"
     ]
    }
   ],
   "source": [
    "ques=int(input(\"enter how many name you wants to add in list? \"))\n",
    "names=[]\n",
    "for i in range(ques):\n",
    "    name=input(\"enter name: \")\n",
    "    names.append(name)\n",
    "print(names)\n",
    "    "
   ]
  },
  {
   "cell_type": "code",
   "execution_count": 10,
   "metadata": {},
   "outputs": [
    {
     "name": "stdout",
     "output_type": "stream",
     "text": [
      "enter name you want to add: python\n",
      "Wants to add more name? yes or no y\n",
      "enter name you want to add: java\n",
      "Wants to add more name? yes or no no\n",
      "programe has stopped.\n",
      "here is your list:  \n",
      " ['python', 'java']\n"
     ]
    }
   ],
   "source": [
    "greet=\"here is your list: \"\n",
    "names=[]\n",
    "while True:\n",
    "    name=input(\"enter name you want to add: \")\n",
    "    names.append(name)\n",
    "    ques=input(\"Wants to add more name? yes or no \")\n",
    "    if ques==\"yes\" or ques==\"y\":\n",
    "        continue\n",
    "    elif ques ==\"no\" or ques==\"n\":\n",
    "        print(\"programe has stopped.\")\n",
    "        print(greet, \"\\n\",names)\n",
    "        break"
   ]
  },
  {
   "cell_type": "code",
   "execution_count": null,
   "metadata": {},
   "outputs": [],
   "source": []
  }
 ],
 "metadata": {
  "kernelspec": {
   "display_name": "Python 3",
   "language": "python",
   "name": "python3"
  },
  "language_info": {
   "codemirror_mode": {
    "name": "ipython",
    "version": 3
   },
   "file_extension": ".py",
   "mimetype": "text/x-python",
   "name": "python",
   "nbconvert_exporter": "python",
   "pygments_lexer": "ipython3",
   "version": "3.7.4"
  }
 },
 "nbformat": 4,
 "nbformat_minor": 2
}
