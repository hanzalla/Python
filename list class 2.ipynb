{
 "cells": [
  {
   "cell_type": "code",
   "execution_count": 13,
   "metadata": {},
   "outputs": [
    {
     "name": "stdout",
     "output_type": "stream",
     "text": [
      "Hello\n",
      "Guys\n",
      "Welcome\n",
      "To\n",
      "My\n",
      "Channel\n",
      "Programming\n",
      "For\n",
      "Beginners\n"
     ]
    }
   ],
   "source": [
    "greeting=[\"hello\",\"guys\",\"welcome\",\"to\",\"my\",\"channel\",\"programming\",\"for\",\"beginners\"]\n",
    "for words in greeting:\n",
    "    print(words.title())"
   ]
  },
  {
   "cell_type": "markdown",
   "metadata": {},
   "source": [
    "# silicing"
   ]
  },
  {
   "cell_type": "code",
   "execution_count": 17,
   "metadata": {},
   "outputs": [
    {
     "name": "stdout",
     "output_type": "stream",
     "text": [
      "i like Biryani\n"
     ]
    }
   ],
   "source": [
    "food=[\"biryani\",\"tikka\",\"kabab\",\"karahi\",\"shawarma\"]\n",
    "print(\"i like \" +food[0].title())"
   ]
  },
  {
   "cell_type": "code",
   "execution_count": 18,
   "metadata": {},
   "outputs": [
    {
     "name": "stdout",
     "output_type": "stream",
     "text": [
      "['biryani', 'tikka', 'kabab']\n"
     ]
    }
   ],
   "source": [
    "print(food[0:3])"
   ]
  },
  {
   "cell_type": "code",
   "execution_count": 19,
   "metadata": {},
   "outputs": [
    {
     "name": "stdout",
     "output_type": "stream",
     "text": [
      "['tikka', 'kabab', 'karahi', 'shawarma']\n"
     ]
    }
   ],
   "source": [
    "print(food[1:])"
   ]
  },
  {
   "cell_type": "code",
   "execution_count": 20,
   "metadata": {},
   "outputs": [
    {
     "name": "stdout",
     "output_type": "stream",
     "text": [
      "['biryani', 'tikka', 'kabab']\n"
     ]
    }
   ],
   "source": [
    "print(food[:3])"
   ]
  },
  {
   "cell_type": "markdown",
   "metadata": {},
   "source": [
    "# copying a list"
   ]
  },
  {
   "cell_type": "code",
   "execution_count": 22,
   "metadata": {},
   "outputs": [
    {
     "name": "stdout",
     "output_type": "stream",
     "text": [
      "['biryani', 'tikka', 'kabab', 'karahi', 'shawarma']\n"
     ]
    }
   ],
   "source": [
    "food=[\"biryani\",\"tikka\",\"kabab\",\"karahi\",\"shawarma\"]\n",
    "firendsfood=food\n",
    "print(friendsfood)"
   ]
  },
  {
   "cell_type": "code",
   "execution_count": 23,
   "metadata": {},
   "outputs": [
    {
     "name": "stdout",
     "output_type": "stream",
     "text": [
      "['biryani', 'tikka', 'kabab', 'karahi', 'shawarma', 'raita']\n"
     ]
    }
   ],
   "source": [
    "firendsfood.append(\"raita\")\n",
    "print(firendsfood)"
   ]
  },
  {
   "cell_type": "code",
   "execution_count": 24,
   "metadata": {},
   "outputs": [
    {
     "name": "stdout",
     "output_type": "stream",
     "text": [
      "['biryani', 'tikka', 'kabab', 'karahi', 'shawarma', 'raita']\n"
     ]
    }
   ],
   "source": [
    "print(food)"
   ]
  },
  {
   "cell_type": "code",
   "execution_count": 27,
   "metadata": {},
   "outputs": [
    {
     "name": "stdout",
     "output_type": "stream",
     "text": [
      "here is my favourite food.\n",
      "['biryani', 'tikka', 'kabab', 'karahi', 'shawarma', 'roti']\n",
      "here is friend's favourite food.\n",
      "['biryani', 'tikka', 'kabab', 'karahi', 'shawarma', 'raita']\n"
     ]
    }
   ],
   "source": [
    "food=[\"biryani\",\"tikka\",\"kabab\",\"karahi\",\"shawarma\"]\n",
    "ffood=food[:]\n",
    "food.append(\"roti\")\n",
    "ffood.append(\"raita\")\n",
    "print(\"here is my favourite food.\")\n",
    "print(food)\n",
    "print(\"here is friend's favourite food.\")\n",
    "print(ffood)"
   ]
  },
  {
   "cell_type": "code",
   "execution_count": null,
   "metadata": {},
   "outputs": [],
   "source": []
  }
 ],
 "metadata": {
  "kernelspec": {
   "display_name": "Python 3",
   "language": "python",
   "name": "python3"
  },
  "language_info": {
   "codemirror_mode": {
    "name": "ipython",
    "version": 3
   },
   "file_extension": ".py",
   "mimetype": "text/x-python",
   "name": "python",
   "nbconvert_exporter": "python",
   "pygments_lexer": "ipython3",
   "version": "3.7.4"
  }
 },
 "nbformat": 4,
 "nbformat_minor": 2
}
