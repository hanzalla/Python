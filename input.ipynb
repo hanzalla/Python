{
 "cells": [
  {
   "cell_type": "code",
   "execution_count": 1,
   "metadata": {},
   "outputs": [
    {
     "name": "stdout",
     "output_type": "stream",
     "text": [
      "Hello Guys Welcome To My Channel 'Programming For Beginners'\n"
     ]
    }
   ],
   "source": [
    "greeting=\"hello guys welcome to my channel 'programming for beginners'\"\n",
    "print(greeting.title())"
   ]
  },
  {
   "cell_type": "markdown",
   "metadata": {},
   "source": [
    "# how to take user input"
   ]
  },
  {
   "cell_type": "code",
   "execution_count": 10,
   "metadata": {},
   "outputs": [
    {
     "name": "stdout",
     "output_type": "stream",
     "text": [
      "enter your name: programming for beginners\n",
      "your name is programming for beginners\n"
     ]
    }
   ],
   "source": [
    "name=input(\"enter your name: \")\n",
    "print(\"your name is \"+name)"
   ]
  },
  {
   "cell_type": "code",
   "execution_count": 12,
   "metadata": {},
   "outputs": [
    {
     "name": "stdout",
     "output_type": "stream",
     "text": [
      "enter any number to get answer 4 when your given number is 2: 2\n",
      "4\n"
     ]
    }
   ],
   "source": [
    "number=input(\"enter any number to get answer 4 when your given number is 2: \")\n",
    "print(2+int(number))"
   ]
  },
  {
   "cell_type": "code",
   "execution_count": 13,
   "metadata": {},
   "outputs": [
    {
     "name": "stdout",
     "output_type": "stream",
     "text": [
      "enter any number to get answer 4 when your given number is 2: 2\n",
      "4\n"
     ]
    }
   ],
   "source": [
    "number=int(input(\"enter any number to get answer 4 when your given number is 2: \"))\n",
    "print(2+number)"
   ]
  },
  {
   "cell_type": "markdown",
   "metadata": {},
   "source": [
    "# take two input from the user and arithematic operator (+ , - ,* , /) and make a simple calculator"
   ]
  },
  {
   "cell_type": "code",
   "execution_count": 15,
   "metadata": {},
   "outputs": [
    {
     "name": "stdout",
     "output_type": "stream",
     "text": [
      "Enter any number : 2\n",
      "Enter another number: 5\n",
      "Enter arithematic operator (+ , - , / ,*): +\n",
      "7\n"
     ]
    }
   ],
   "source": [
    "number1=int(input(\"Enter any number : \"))\n",
    "number2=int(input(\"Enter another number: \"))\n",
    "operator=input(\"Enter arithematic operator (+ , - , / ,*): \")\n",
    "if(operator==\"+\"):\n",
    "    print(number1+number2)\n",
    "elif(operator==\"-\"):\n",
    "    print(number1-number2)\n",
    "elif(operator==\"/\"):\n",
    "    print(number1/number2)\n",
    "elif(operator==\"*\"):\n",
    "    print(number1*number2)\n",
    "else:\n",
    "    print(\"invalid sytax\")"
   ]
  },
  {
   "cell_type": "code",
   "execution_count": 16,
   "metadata": {},
   "outputs": [
    {
     "name": "stdout",
     "output_type": "stream",
     "text": [
      "Enter any number : 6\n",
      "Enter another number: 3\n",
      "Enter arithematic operator (+ , - , / ,*): /\n",
      "2.0\n"
     ]
    }
   ],
   "source": [
    "number1=int(input(\"Enter any number : \"))\n",
    "number2=int(input(\"Enter another number: \"))\n",
    "operator=input(\"Enter arithematic operator (+ , - , / ,*): \")\n",
    "if(operator==\"+\"):\n",
    "    print(number1+number2)\n",
    "elif(operator==\"-\"):\n",
    "    print(number1-number2)\n",
    "elif(operator==\"/\"):\n",
    "    print(number1/number2)\n",
    "elif(operator==\"*\"):\n",
    "    print(number1*number2)\n",
    "else:\n",
    "    print(\"invalid sytax\")"
   ]
  },
  {
   "cell_type": "code",
   "execution_count": null,
   "metadata": {},
   "outputs": [],
   "source": []
  }
 ],
 "metadata": {
  "kernelspec": {
   "display_name": "Python 3",
   "language": "python",
   "name": "python3"
  },
  "language_info": {
   "codemirror_mode": {
    "name": "ipython",
    "version": 3
   },
   "file_extension": ".py",
   "mimetype": "text/x-python",
   "name": "python",
   "nbconvert_exporter": "python",
   "pygments_lexer": "ipython3",
   "version": "3.7.4"
  }
 },
 "nbformat": 4,
 "nbformat_minor": 2
}
