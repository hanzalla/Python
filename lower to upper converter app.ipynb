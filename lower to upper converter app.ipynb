{
 "cells": [
  {
   "cell_type": "code",
   "execution_count": 34,
   "metadata": {},
   "outputs": [
    {
     "name": "stdout",
     "output_type": "stream",
     "text": [
      "Hello Friends, Welcome To My Channel 'Programming For Beginners'\n"
     ]
    }
   ],
   "source": [
    "Greeting=\"hello friends, welcome to my channel 'programming for beginners'\"\n",
    "print(Greeting.title())"
   ]
  },
  {
   "cell_type": "markdown",
   "metadata": {},
   "source": [
    "# Convert Capital letter into small letter and small to capital of a sentence"
   ]
  },
  {
   "cell_type": "code",
   "execution_count": 44,
   "metadata": {},
   "outputs": [
    {
     "name": "stdout",
     "output_type": "stream",
     "text": [
      "Enter what every you want: PrograMMINg FOR Beginners\n",
      " pROGRAmminG for bEGINNERS\n"
     ]
    }
   ],
   "source": [
    "cname=input(\"Enter what every you want: \")\n",
    "cnames=\" \"\n",
    "for cnam in cname:\n",
    "    if (cnam.islower())==True:\n",
    "        cnames+=cnam.upper()\n",
    "    elif (cnam.isupper())==True:\n",
    "        cnames+=cnam.lower()\n",
    "    elif (cnam.isspace())==True:\n",
    "        cnames+=cnam\n",
    "        \n",
    "print(cnames)"
   ]
  },
  {
   "cell_type": "code",
   "execution_count": null,
   "metadata": {},
   "outputs": [],
   "source": []
  }
 ],
 "metadata": {
  "kernelspec": {
   "display_name": "Python 3",
   "language": "python",
   "name": "python3"
  },
  "language_info": {
   "codemirror_mode": {
    "name": "ipython",
    "version": 3
   },
   "file_extension": ".py",
   "mimetype": "text/x-python",
   "name": "python",
   "nbconvert_exporter": "python",
   "pygments_lexer": "ipython3",
   "version": "3.7.4"
  }
 },
 "nbformat": 4,
 "nbformat_minor": 2
}
