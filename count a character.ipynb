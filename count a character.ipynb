{
 "cells": [
  {
   "cell_type": "markdown",
   "metadata": {},
   "source": [
    "# make a program that take user input and count that specific character"
   ]
  },
  {
   "cell_type": "code",
   "execution_count": 18,
   "metadata": {},
   "outputs": [
    {
     "name": "stdout",
     "output_type": "stream",
     "text": [
      "enter text: programming for beginners\n",
      "enter character (a,b,c,..z) to count: n\n",
      "3\n"
     ]
    }
   ],
   "source": [
    "text=input(\"enter text: \")\n",
    "text.lower()\n",
    "char=input(\"enter character (a,b,c,..z) to count: \")\n",
    "print(text.count(char))"
   ]
  },
  {
   "cell_type": "code",
   "execution_count": 19,
   "metadata": {},
   "outputs": [
    {
     "name": "stdout",
     "output_type": "stream",
     "text": [
      "Hello! May I Know Your Name Please? programming for beginners\n",
      "\n",
      "Hello Programming For Beginners Welcome To 'Programming For Beginners'\n",
      "Don'T Worry I'M Here To Count Specific Character From Your Provided Sentence.\n",
      "\n",
      "Please Enter Your Text From Which You Want To Count A Specific Character:\n",
      " aaaaaahhhhhhhhharthaerga\n",
      "\n",
      "Your sentence is :\n",
      "Aaaaaahhhhhhhhharthaerga\n",
      "Enter Character (A,B,C,..Z) You Want To Count: a\n",
      "\n",
      "You want to count number of A, 9 times in a sentence\n"
     ]
    }
   ],
   "source": [
    "name=input(\"hello! may i know your name please? \".title())\n",
    "greeting =\"Hello \"+name+\" welcome to 'programming for beginners'\"\n",
    "greeting+=\"\\nDon't worry I'm here to count specific character from your provided sentence.\"\n",
    "print(\"\\n\"+greeting.title())\n",
    "sent=input(\"\\nplease enter your text from which you want to count a specific character:\\n \".title())\n",
    "text=sent\n",
    "print(\"\\n\"+\"Your sentence is :\\n\"+text.title())\n",
    "chara=input(\"enter character (a,b,c,..z) you want to count: \".title())\n",
    "text.lower()\n",
    "ans=text.count(chara)\n",
    "\n",
    "print(\"\\nYou want to count number of \"+chara.upper()+\", \" +str(ans)+\" times in a sentence\")\n",
    "           "
   ]
  },
  {
   "cell_type": "code",
   "execution_count": null,
   "metadata": {},
   "outputs": [],
   "source": []
  }
 ],
 "metadata": {
  "kernelspec": {
   "display_name": "Python 3",
   "language": "python",
   "name": "python3"
  }
 },
 "nbformat": 4,
 "nbformat_minor": 2
}
