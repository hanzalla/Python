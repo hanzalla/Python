{
 "cells": [
  {
   "cell_type": "code",
   "execution_count": 5,
   "metadata": {},
   "outputs": [
    {
     "name": "stdout",
     "output_type": "stream",
     "text": [
      "hello welcome to my channel 'Programming for beginners'\n"
     ]
    }
   ],
   "source": [
    "print(\"hello welcome to my channel 'Programming for beginners'\")"
   ]
  },
  {
   "cell_type": "markdown",
   "metadata": {},
   "source": [
    "# simple Data Type\n",
    "string (character)\n",
    "number\n",
    ".integers\n",
    ".float\n"
   ]
  },
  {
   "cell_type": "code",
   "execution_count": 2,
   "metadata": {},
   "outputs": [
    {
     "name": "stdout",
     "output_type": "stream",
     "text": [
      "quaid e azam said, \"work work and work\"\n",
      "he's\n"
     ]
    }
   ],
   "source": [
    "greet=\"hello friends\"\n",
    "greeting='hello friends'\n",
    "\n",
    "quotation=\"quaid e azam said, \\\"work work and work\\\"\"\n",
    "print(quotation)\n",
    "pronoun=\"he's\"\n",
    "print(pronoun)"
   ]
  },
  {
   "cell_type": "code",
   "execution_count": null,
   "metadata": {},
   "outputs": [],
   "source": []
  }
 ],
 "metadata": {
  "kernelspec": {
   "display_name": "Python 3",
   "language": "python",
   "name": "python3"
  },
  "language_info": {
   "codemirror_mode": {
    "name": "ipython",
    "version": 3
   },
   "file_extension": ".py",
   "mimetype": "text/x-python",
   "name": "python",
   "nbconvert_exporter": "python",
   "pygments_lexer": "ipython3",
   "version": "3.7.4"
  }
 },
 "nbformat": 4,
 "nbformat_minor": 2
}
