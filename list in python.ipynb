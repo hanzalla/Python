{
 "cells": [
  {
   "cell_type": "code",
   "execution_count": 1,
   "metadata": {},
   "outputs": [
    {
     "name": "stdout",
     "output_type": "stream",
     "text": [
      "Hello Guys.! Wellcome To My Channel 'Programming For Beginners'\n"
     ]
    }
   ],
   "source": [
    "greeting=\"hello guys.! wellcome to my channel 'programming for beginners'\"\n",
    "print(greeting.title())"
   ]
  },
  {
   "cell_type": "markdown",
   "metadata": {},
   "source": [
    "# List"
   ]
  },
  {
   "cell_type": "code",
   "execution_count": 2,
   "metadata": {},
   "outputs": [
    {
     "name": "stdout",
     "output_type": "stream",
     "text": [
      "['programming', 'for', 'beginners']\n"
     ]
    }
   ],
   "source": [
    "name=[\"programming\",\"for\",\"beginners\"]\n",
    "print(name)"
   ]
  },
  {
   "cell_type": "markdown",
   "metadata": {},
   "source": [
    "# playing with list\n",
    "append() , insert() ,del() ,remove(), pop()"
   ]
  },
  {
   "cell_type": "code",
   "execution_count": 6,
   "metadata": {},
   "outputs": [
    {
     "name": "stdout",
     "output_type": "stream",
     "text": [
      "['programming', 'for', 'beginners', 'subscribe my channel']\n"
     ]
    }
   ],
   "source": [
    "name=[\"programming\",\"for\",\"beginners\"]\n",
    "name.append(\"subscribe my channel\")\n",
    "print(name)"
   ]
  },
  {
   "cell_type": "code",
   "execution_count": 7,
   "metadata": {},
   "outputs": [
    {
     "name": "stdout",
     "output_type": "stream",
     "text": [
      "['subscribe my channel', 'programming', 'for', 'beginners']\n"
     ]
    }
   ],
   "source": [
    "name=[\"programming\",\"for\",\"beginners\"]\n",
    "name.insert(0,\"subscribe my channel\") #insert syntax .insert(position,value)\n",
    "print(name)"
   ]
  },
  {
   "cell_type": "code",
   "execution_count": 8,
   "metadata": {},
   "outputs": [],
   "source": [
    "del name[0]"
   ]
  },
  {
   "cell_type": "code",
   "execution_count": 9,
   "metadata": {},
   "outputs": [
    {
     "name": "stdout",
     "output_type": "stream",
     "text": [
      "['programming', 'for', 'beginners']\n"
     ]
    }
   ],
   "source": [
    "print(name)"
   ]
  },
  {
   "cell_type": "code",
   "execution_count": 10,
   "metadata": {},
   "outputs": [
    {
     "name": "stdout",
     "output_type": "stream",
     "text": [
      "['programming', 'beginners']\n"
     ]
    }
   ],
   "source": [
    "name=[\"programming\",\"for\",\"beginners\"]\n",
    "name.remove(\"for\")\n",
    "print(name)"
   ]
  },
  {
   "cell_type": "code",
   "execution_count": 11,
   "metadata": {},
   "outputs": [
    {
     "name": "stdout",
     "output_type": "stream",
     "text": [
      "['programming', 'beginners']\n"
     ]
    }
   ],
   "source": [
    "name=[\"programming\",\"for\",\"beginners\"]\n",
    "name.pop(1)\n",
    "print(name)"
   ]
  },
  {
   "cell_type": "code",
   "execution_count": 17,
   "metadata": {},
   "outputs": [
    {
     "name": "stdout",
     "output_type": "stream",
     "text": [
      "['java', 'javascript', 'react', 'java', 'python', 'java', 'python']\n"
     ]
    }
   ],
   "source": [
    "name=[\"python\",\"java\",\"javascript\",\"react\",\"java\",\"python\",\"java\",\"python\"]\n",
    "del name[0]\n",
    "print(name)"
   ]
  },
  {
   "cell_type": "code",
   "execution_count": 18,
   "metadata": {},
   "outputs": [
    {
     "name": "stdout",
     "output_type": "stream",
     "text": [
      "['python', 'javascript', 'react', 'java', 'python', 'java', 'python']\n"
     ]
    }
   ],
   "source": [
    "name=[\"python\",\"java\",\"javascript\",\"react\",\"java\",\"python\",\"java\",\"python\"]\n",
    "name.remove(\"java\")\n",
    "print(name)"
   ]
  },
  {
   "cell_type": "code",
   "execution_count": 19,
   "metadata": {},
   "outputs": [
    {
     "name": "stdout",
     "output_type": "stream",
     "text": [
      "['python', 'java', 'react', 'java', 'python', 'java', 'python']\n",
      "javascript\n"
     ]
    }
   ],
   "source": [
    "name=[\"python\",\"java\",\"javascript\",\"react\",\"java\",\"python\",\"java\",\"python\"]\n",
    "popedname=name.pop(2)\n",
    "print(name)\n",
    "print(popedname)"
   ]
  },
  {
   "cell_type": "markdown",
   "metadata": {},
   "source": [
    "# organizing list\n",
    "sort() sorted()"
   ]
  },
  {
   "cell_type": "code",
   "execution_count": 20,
   "metadata": {},
   "outputs": [
    {
     "name": "stdout",
     "output_type": "stream",
     "text": [
      "['java', 'java', 'java', 'javascript', 'python', 'python', 'python', 'react']\n"
     ]
    }
   ],
   "source": [
    "name=[\"python\",\"java\",\"javascript\",\"react\",\"java\",\"python\",\"java\",\"python\"]\n",
    "name.sort()\n",
    "print(name)"
   ]
  },
  {
   "cell_type": "code",
   "execution_count": 21,
   "metadata": {},
   "outputs": [
    {
     "name": "stdout",
     "output_type": "stream",
     "text": [
      "['java', 'java', 'java', 'javascript', 'python', 'python', 'python', 'react']\n"
     ]
    }
   ],
   "source": [
    "print(name)"
   ]
  },
  {
   "cell_type": "code",
   "execution_count": 22,
   "metadata": {},
   "outputs": [
    {
     "name": "stdout",
     "output_type": "stream",
     "text": [
      "['java', 'java', 'java', 'javascript', 'python', 'python', 'python', 'react']\n"
     ]
    }
   ],
   "source": [
    "name=[\"python\",\"java\",\"javascript\",\"react\",\"java\",\"python\",\"java\",\"python\"]\n",
    "print(sorted(name))"
   ]
  },
  {
   "cell_type": "code",
   "execution_count": 23,
   "metadata": {},
   "outputs": [
    {
     "name": "stdout",
     "output_type": "stream",
     "text": [
      "['python', 'java', 'javascript', 'react', 'java', 'python', 'java', 'python']\n"
     ]
    }
   ],
   "source": [
    "print(name)"
   ]
  },
  {
   "cell_type": "code",
   "execution_count": 33,
   "metadata": {},
   "outputs": [
    {
     "name": "stdout",
     "output_type": "stream",
     "text": [
      "['python', 'java', 'python', 'java', 'react', 'javascript', 'java', 'python']\n"
     ]
    }
   ],
   "source": [
    "name=[\"python\",\"java\",\"javascript\",\"react\",\"java\",\"python\",\"java\",\"python\"]\n",
    "name.reverse()\n",
    "print(name)"
   ]
  },
  {
   "cell_type": "code",
   "execution_count": 34,
   "metadata": {},
   "outputs": [
    {
     "name": "stdout",
     "output_type": "stream",
     "text": [
      "['react', 'python', 'python', 'python', 'javascript', 'java', 'java', 'java']\n"
     ]
    }
   ],
   "source": [
    "name=[\"python\",\"java\",\"javascript\",\"react\",\"java\",\"python\",\"java\",\"python\"]\n",
    "name.sort(reverse=True)\n",
    "print(name)"
   ]
  },
  {
   "cell_type": "code",
   "execution_count": 35,
   "metadata": {},
   "outputs": [
    {
     "name": "stdout",
     "output_type": "stream",
     "text": [
      "['react', 'python', 'python', 'python', 'javascript', 'java', 'java', 'java']\n"
     ]
    }
   ],
   "source": [
    "print(name)"
   ]
  },
  {
   "cell_type": "code",
   "execution_count": 36,
   "metadata": {},
   "outputs": [
    {
     "name": "stdout",
     "output_type": "stream",
     "text": [
      "['react', 'python', 'python', 'python', 'javascript', 'java', 'java', 'java']\n"
     ]
    }
   ],
   "source": [
    "name=[\"python\",\"java\",\"javascript\",\"react\",\"java\",\"python\",\"java\",\"python\"]\n",
    "print(sorted(name,reverse=True))"
   ]
  },
  {
   "cell_type": "code",
   "execution_count": 37,
   "metadata": {},
   "outputs": [
    {
     "name": "stdout",
     "output_type": "stream",
     "text": [
      "['python', 'java', 'javascript', 'react', 'java', 'python', 'java', 'python']\n"
     ]
    }
   ],
   "source": [
    "print(name)"
   ]
  },
  {
   "cell_type": "markdown",
   "metadata": {},
   "source": [
    "# determining length of list"
   ]
  },
  {
   "cell_type": "code",
   "execution_count": 39,
   "metadata": {},
   "outputs": [
    {
     "data": {
      "text/plain": [
       "8"
      ]
     },
     "execution_count": 39,
     "metadata": {},
     "output_type": "execute_result"
    }
   ],
   "source": [
    "name=[\"python\",\"java\",\"javascript\",\"react\",\"java\",\"python\",\"java\",\"python\"]\n",
    "len(name)"
   ]
  },
  {
   "cell_type": "markdown",
   "metadata": {},
   "source": [
    "# avoiding list indexing error"
   ]
  },
  {
   "cell_type": "code",
   "execution_count": 1,
   "metadata": {},
   "outputs": [
    {
     "ename": "IndexError",
     "evalue": "pop index out of range",
     "output_type": "error",
     "traceback": [
      "\u001b[1;31m---------------------------------------------------------------------------\u001b[0m",
      "\u001b[1;31mIndexError\u001b[0m                                Traceback (most recent call last)",
      "\u001b[1;32m<ipython-input-1-b68671422afb>\u001b[0m in \u001b[0;36m<module>\u001b[1;34m\u001b[0m\n\u001b[0;32m      1\u001b[0m \u001b[0mname\u001b[0m\u001b[1;33m=\u001b[0m\u001b[1;33m[\u001b[0m\u001b[1;34m\"python\"\u001b[0m\u001b[1;33m,\u001b[0m\u001b[1;34m\"java\"\u001b[0m\u001b[1;33m,\u001b[0m\u001b[1;34m\"javascript\"\u001b[0m\u001b[1;33m,\u001b[0m\u001b[1;34m\"react\"\u001b[0m\u001b[1;33m,\u001b[0m\u001b[1;34m\"java\"\u001b[0m\u001b[1;33m,\u001b[0m\u001b[1;34m\"python\"\u001b[0m\u001b[1;33m,\u001b[0m\u001b[1;34m\"java\"\u001b[0m\u001b[1;33m,\u001b[0m\u001b[1;34m\"python\"\u001b[0m\u001b[1;33m]\u001b[0m\u001b[1;33m\u001b[0m\u001b[1;33m\u001b[0m\u001b[0m\n\u001b[1;32m----> 2\u001b[1;33m \u001b[0mname\u001b[0m\u001b[1;33m.\u001b[0m\u001b[0mpop\u001b[0m\u001b[1;33m(\u001b[0m\u001b[1;36m8\u001b[0m\u001b[1;33m)\u001b[0m\u001b[1;33m\u001b[0m\u001b[1;33m\u001b[0m\u001b[0m\n\u001b[0m\u001b[0;32m      3\u001b[0m \u001b[0mprint\u001b[0m\u001b[1;33m(\u001b[0m\u001b[0mname\u001b[0m\u001b[1;33m)\u001b[0m\u001b[1;33m\u001b[0m\u001b[1;33m\u001b[0m\u001b[0m\n",
      "\u001b[1;31mIndexError\u001b[0m: pop index out of range"
     ]
    }
   ],
   "source": [
    "name=[\"python\",\"java\",\"javascript\",\"react\",\"java\",\"python\",\"java\",\"python\"]\n",
    "name.pop(8)\n",
    "print(name)"
   ]
  },
  {
   "cell_type": "code",
   "execution_count": 2,
   "metadata": {},
   "outputs": [
    {
     "name": "stdout",
     "output_type": "stream",
     "text": [
      "['python', 'java', 'javascript', 'react', 'java', 'python', 'java']\n"
     ]
    }
   ],
   "source": [
    "name=[\"python\",\"java\",\"javascript\",\"react\",\"java\",\"python\",\"java\",\"python\"]\n",
    "name.pop(-1)\n",
    "print(name)"
   ]
  },
  {
   "cell_type": "code",
   "execution_count": 1,
   "metadata": {},
   "outputs": [
    {
     "name": "stdout",
     "output_type": "stream",
     "text": [
      "python\n",
      "java\n",
      "javascript\n",
      "react\n",
      "java\n",
      "python\n",
      "java\n",
      "python\n"
     ]
    }
   ],
   "source": [
    "name=[\"python\",\"java\",\"javascript\",\"react\",\"java\",\"python\",\"java\",\"python\"]\n",
    "for nam in name:\n",
    "    print(nam)"
   ]
  },
  {
   "cell_type": "code",
   "execution_count": 3,
   "metadata": {},
   "outputs": [
    {
     "name": "stdout",
     "output_type": "stream",
     "text": [
      "h\n",
      "a\n",
      "n\n",
      "z\n",
      "i\n"
     ]
    }
   ],
   "source": [
    "x=\"hanzi\"\n",
    "for i in x:\n",
    "    print(i)"
   ]
  },
  {
   "cell_type": "code",
   "execution_count": 4,
   "metadata": {},
   "outputs": [
    {
     "name": "stdout",
     "output_type": "stream",
     "text": [
      "0\n",
      "1\n",
      "2\n",
      "3\n",
      "4\n",
      "5\n",
      "6\n",
      "7\n",
      "8\n",
      "9\n"
     ]
    }
   ],
   "source": [
    "for i in range(10):\n",
    "    print(i)"
   ]
  },
  {
   "cell_type": "code",
   "execution_count": 5,
   "metadata": {},
   "outputs": [
    {
     "name": "stdout",
     "output_type": "stream",
     "text": [
      "1\n",
      "2\n",
      "3\n",
      "4\n",
      "5\n",
      "6\n",
      "7\n",
      "8\n",
      "9\n"
     ]
    }
   ],
   "source": [
    "for i in range(1,10):\n",
    "    print(i)"
   ]
  },
  {
   "cell_type": "code",
   "execution_count": 6,
   "metadata": {},
   "outputs": [
    {
     "name": "stdout",
     "output_type": "stream",
     "text": [
      "1\n",
      "3\n",
      "5\n",
      "7\n",
      "9\n"
     ]
    }
   ],
   "source": [
    "for i in range(1,10,2):\n",
    "    print(i)"
   ]
  },
  {
   "cell_type": "code",
   "execution_count": 16,
   "metadata": {},
   "outputs": [
    {
     "name": "stdout",
     "output_type": "stream",
     "text": [
      "1\n",
      "6\n"
     ]
    }
   ],
   "source": [
    "for i in range(1,10,5):\n",
    "    print(i)"
   ]
  },
  {
   "cell_type": "code",
   "execution_count": null,
   "metadata": {},
   "outputs": [],
   "source": []
  }
 ],
 "metadata": {
  "kernelspec": {
   "display_name": "Python 3",
   "language": "python",
   "name": "python3"
  },
  "language_info": {
   "codemirror_mode": {
    "name": "ipython",
    "version": 3
   },
   "file_extension": ".py",
   "mimetype": "text/x-python",
   "name": "python",
   "nbconvert_exporter": "python",
   "pygments_lexer": "ipython3",
   "version": "3.7.4"
  }
 },
 "nbformat": 4,
 "nbformat_minor": 2
}
