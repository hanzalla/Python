{
 "cells": [
  {
   "cell_type": "code",
   "execution_count": 15,
   "metadata": {},
   "outputs": [
    {
     "name": "stdout",
     "output_type": "stream",
     "text": [
      "Hellow Guys! Welcome To My Channel 'Programming For Beginners'\n"
     ]
    }
   ],
   "source": [
    "greeting=\"hellow guys! welcome to my channel 'programming for beginners'\"\n",
    "print(greeting.title())"
   ]
  },
  {
   "cell_type": "markdown",
   "metadata": {},
   "source": [
    "# write a program to print name 10 times using for loop. your output will look like this \n",
    "e.g 1.your name 2. your name 3. your name.. "
   ]
  },
  {
   "cell_type": "code",
   "execution_count": 31,
   "metadata": {},
   "outputs": [
    {
     "name": "stdout",
     "output_type": "stream",
     "text": [
      "1. Programming For Beginners\n",
      "2. Programming For Beginners\n",
      "3. Programming For Beginners\n",
      "4. Programming For Beginners\n",
      "5. Programming For Beginners\n",
      "6. Programming For Beginners\n",
      "7. Programming For Beginners\n",
      "8. Programming For Beginners\n",
      "9. Programming For Beginners\n",
      "10. Programming For Beginners\n"
     ]
    }
   ],
   "source": [
    "name=\"programming for beginners\"\n",
    "for i in range(1,11):\n",
    "    print(str(i)+\". \"+name.title())"
   ]
  },
  {
   "cell_type": "code",
   "execution_count": null,
   "metadata": {},
   "outputs": [],
   "source": []
  }
 ],
 "metadata": {
  "kernelspec": {
   "display_name": "Python 3",
   "language": "python",
   "name": "python3"
  },
  "language_info": {
   "codemirror_mode": {
    "name": "ipython",
    "version": 3
   },
   "file_extension": ".py",
   "mimetype": "text/x-python",
   "name": "python",
   "nbconvert_exporter": "python",
   "pygments_lexer": "ipython3",
   "version": "3.7.4"
  }
 },
 "nbformat": 4,
 "nbformat_minor": 2
}
