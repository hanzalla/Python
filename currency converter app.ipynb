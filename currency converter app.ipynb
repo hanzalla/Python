{
 "cells": [
  {
   "cell_type": "code",
   "execution_count": 2,
   "metadata": {},
   "outputs": [
    {
     "name": "stdout",
     "output_type": "stream",
     "text": [
      "Hello, Welcome To My Channel,'Programming For Beginners'\n"
     ]
    }
   ],
   "source": [
    "print(\"hello, welcome to my channel,'programming for beginners'\".title())"
   ]
  },
  {
   "cell_type": "markdown",
   "metadata": {},
   "source": [
    "# currency covnerter app in Python"
   ]
  },
  {
   "cell_type": "code",
   "execution_count": 4,
   "metadata": {},
   "outputs": [
    {
     "name": "stdout",
     "output_type": "stream",
     "text": [
      "Welcome To Currency Converter App\n",
      "You Can Convert In Following Currency:\n",
      "\n",
      "U.S Dollar\n",
      "\n",
      "Euro\n",
      "\n",
      "British Pound\n",
      "\n",
      "Uae Dirham\n",
      "\n",
      "Kuwaiti Dinar\n",
      "\n",
      "enter your amount: 25.253\n",
      "\n",
      "Select your currency you want to convert: dirham\n",
      "\n",
      "You Have Selected Uae Dirham And Your Total Coverted Amount = 1135.12235\n"
     ]
    }
   ],
   "source": [
    "print(\"welcome to currency converter app\".title())\n",
    "dic={\"U.S dollar\":166.50,\"Euro\":198.00,\"British Pound\":220.00,\"UAE Dirham\":44.95,\"kuwaiti Dinar\":517.00}\n",
    "print(\"you can convert in following currency:\".title())\n",
    "for key in dic.keys():\n",
    "    print(\"\\n\"+key.title())\n",
    "your_value=float(input(\"\\nenter your amount: \"))\n",
    "currency=input(\"\\nSelect your currency you want to convert: \").title()\n",
    "if currency==\"us\" or currency ==\"dollar\":\n",
    "    print(\"\\nYou have selected dollar and your total coverted amount = \".title()+str(dic[\"U.S dollar\"]*your_value))\n",
    "elif currency==\"euro\" or currency==\"Euro\":\n",
    "    print(\"\\nYou have selected Euro and your total coverted amount = \".title()+str(dic[\"Euro\"]*your_value))\n",
    "elif currency==\"Pound\" or currency==\"pound\":\n",
    "    print(\"\\nYou have selected British Pound and your total coverted amount = \".title()+str(dic[\"British Pound\"]*your_value))\n",
    "elif currency==\"dirham\" or currency==\"Dirham\":\n",
    "    print(\"\\nYou have selected UAE Dirham and your total coverted amount = \".title()+str(dic[\"UAE Dirham\"]*your_value))\n",
    "elif currency==\"dinar\" or currency==\"Dinar\":\n",
    "    print(\"\\nYou have selected Kuwaiti Dinar and your total coverted amount = \".title()+str(dic[\"Kuwaiti Dinar\"]*your_value))\n",
    "\n",
    "    "
   ]
  },
  {
   "cell_type": "code",
   "execution_count": null,
   "metadata": {},
   "outputs": [],
   "source": []
  }
 ],
 "metadata": {
  "kernelspec": {
   "display_name": "Python 3",
   "language": "python",
   "name": "python3"
  },
  "language_info": {
   "codemirror_mode": {
    "name": "ipython",
    "version": 3
   },
   "file_extension": ".py",
   "mimetype": "text/x-python",
   "name": "python",
   "nbconvert_exporter": "python",
   "pygments_lexer": "ipython3",
   "version": "3.7.4"
  }
 },
 "nbformat": 4,
 "nbformat_minor": 2
}
