{
 "cells": [
  {
   "cell_type": "code",
   "execution_count": 23,
   "metadata": {},
   "outputs": [
    {
     "name": "stdout",
     "output_type": "stream",
     "text": [
      "Welcome To My Channel, Programming For Beginners\n"
     ]
    }
   ],
   "source": [
    "print(\"welcome to my channel, programming for beginners\".title())"
   ]
  },
  {
   "cell_type": "markdown",
   "metadata": {},
   "source": [
    "# even or odd"
   ]
  },
  {
   "cell_type": "code",
   "execution_count": 26,
   "metadata": {},
   "outputs": [
    {
     "name": "stdout",
     "output_type": "stream",
     "text": [
      "Enter number: 3\n",
      "Odd number\n"
     ]
    }
   ],
   "source": [
    "num=int(input(\"Enter number: \"))\n",
    "if num%2==0:\n",
    "    print(\"Even number\")\n",
    "else:\n",
    "    print(\"Odd number\")"
   ]
  },
  {
   "cell_type": "code",
   "execution_count": 1,
   "metadata": {},
   "outputs": [
    {
     "name": "stdout",
     "output_type": "stream",
     "text": [
      "Welcome To My Even And Odd Calculator\n",
      "Enter number: 2\n",
      "Even number\n",
      "wants to check another number.? yes or no: yes\n",
      "Enter number: 4\n",
      "Even number\n",
      "wants to check another number.? yes or no: yes\n",
      "Enter number: 6\n",
      "Even number\n",
      "wants to check another number.? yes or no: yes\n",
      "Enter number: 3\n",
      "Odd number\n",
      "wants to check another number.? yes or no: no\n"
     ]
    }
   ],
   "source": [
    "print(\"welcome to my even and odd calculator\".title())\n",
    "while True:\n",
    "    num=int(input(\"Enter number: \"))\n",
    "    if num%2==0:\n",
    "        print(\"Even number\")\n",
    "    else:\n",
    "        print(\"Odd number\")\n",
    "    ques=input(\"wants to check another number.? yes or no: \")\n",
    "    if ques==\"yes\" or ques==\"y\":\n",
    "        continue\n",
    "    else:\n",
    "        break"
   ]
  },
  {
   "cell_type": "code",
   "execution_count": null,
   "metadata": {},
   "outputs": [],
   "source": []
  }
 ],
 "metadata": {
  "kernelspec": {
   "display_name": "Python 3",
   "language": "python",
   "name": "python3"
  },
  "language_info": {
   "codemirror_mode": {
    "name": "ipython",
    "version": 3
   },
   "file_extension": ".py",
   "mimetype": "text/x-python",
   "name": "python",
   "nbconvert_exporter": "python",
   "pygments_lexer": "ipython3",
   "version": "3.7.4"
  }
 },
 "nbformat": 4,
 "nbformat_minor": 2
}
